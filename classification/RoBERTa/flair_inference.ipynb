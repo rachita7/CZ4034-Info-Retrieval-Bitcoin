{
 "cells": [
  {
   "cell_type": "code",
   "execution_count": 1,
   "metadata": {},
   "outputs": [],
   "source": [
    "import pandas as pd\n",
    "\n",
    "from flair.data import Corpus\n",
    "from flair.datasets import CSVClassificationCorpus\n",
    "from flair.datasets import TREC_6\n",
    "from flair.embeddings import TransformerDocumentEmbeddings, DocumentPoolEmbeddings\n",
    "from flair.models import TextClassifier\n",
    "from flair.trainers import ModelTrainer\n",
    "from flair.data import Sentence\n",
    "from flair.models import TARSClassifier\n",
    "from flair.embeddings import FlairEmbeddings, PooledFlairEmbeddings\n",
    "from flair.data import Dictionary\n",
    "from flair.embeddings import FlairEmbeddings\n",
    "from flair.trainers.language_model_trainer import LanguageModelTrainer, TextCorpus\n",
    "from sklearn.metrics import accuracy_score, confusion_matrix, classification_report, ConfusionMatrixDisplay, f1_score, precision_score, recall_score\n",
    "\n",
    "import matplotlib.pyplot as plt\n"
   ]
  },
  {
   "cell_type": "code",
   "execution_count": 2,
   "metadata": {},
   "outputs": [
    {
     "name": "stdout",
     "output_type": "stream",
     "text": [
      "2022-04-05 20:02:01,784 loading file /export/home/aneezahm001/IR/fine-tune/hand-labelled-old-new/twitter-roberta/final-model.pt\n",
      "2022-04-05 20:02:15,865 No model_max_length in Tokenizer's config.json - setting it to 512. Specify desired model_max_length by passing it as attribute to embedding instance.\n"
     ]
    }
   ],
   "source": [
    "classifier = TextClassifier.load(\"/export/home/aneezahm001/IR/fine-tune/hand-labelled-old-new/twitter-roberta/final-model.pt\")"
   ]
  },
  {
   "cell_type": "code",
   "execution_count": 1,
   "metadata": {},
   "outputs": [],
   "source": [
    "test_data = pd.read_csv(\"./data/inference/all_data.csv\", index_col = 0)\n",
    "test_data.thead()"
   ]
  },
  {
   "cell_type": "code",
   "execution_count": null,
   "metadata": {},
   "outputs": [],
   "source": [
    "#Preprocess tweets and save in new column\n",
    "inference=[]\n",
    "i=0\n",
    "for item in test_data['procesed_content']:\n",
    "    sentence = Sentence(item)\n",
    "    classifier.predict(sentence)\n",
    "\n",
    "    inference += [float(sentence.labels[0].value)]\n",
    "    \n",
    "    i += 1\n",
    "    if i%500==0:\n",
    "      print(i)\n",
    "test_data['inference']=inference"
   ]
  },
  {
   "cell_type": "code",
   "execution_count": 28,
   "metadata": {},
   "outputs": [
    {
     "data": {
      "text/plain": [
       "<sklearn.metrics._plot.confusion_matrix.ConfusionMatrixDisplay at 0x7fe1b7821090>"
      ]
     },
     "execution_count": 28,
     "metadata": {},
     "output_type": "execute_result"
    },
    {
     "data": {
      "image/png": "[encoded data removed]",
      "text/plain": [
       "<Figure size 432x288 with 2 Axes>"
      ]
     },
     "metadata": {
      "needs_background": "light"
     },
     "output_type": "display_data"
    }
   ],
   "source": [
    "labels = [-1, 0, 1]\n",
    "cm = confusion_matrix(test_data[\"sentiment\"], test_data[\"inference\"], labels=labels)\n",
    "disp = ConfusionMatrixDisplay(confusion_matrix=cm, display_labels=labels)\n",
    "disp.plot()"
   ]
  },
  {
   "cell_type": "code",
   "execution_count": 33,
   "metadata": {},
   "outputs": [
    {
     "name": "stdout",
     "output_type": "stream",
     "text": [
      "              precision    recall  f1-score   support\n",
      "\n",
      "          -1       0.64      0.65      0.64       219\n",
      "           0       0.83      0.83      0.83       542\n",
      "           1       0.80      0.79      0.79       388\n",
      "\n",
      "    accuracy                           0.78      1149\n",
      "   macro avg       0.76      0.76      0.76      1149\n",
      "weighted avg       0.78      0.78      0.78      1149\n",
      "\n"
     ]
    }
   ],
   "source": [
    "print(classification_report(test_data[\"sentiment\"], test_data[\"inference\"]))"
   ]
  },
  {
   "cell_type": "code",
   "execution_count": 12,
   "metadata": {},
   "outputs": [],
   "source": [
    "test_data.to_csv(\"./data/hand-labelled-old-new/inference/test_data_inference.csv\")"
   ]
  }
 ],
 "metadata": {
  "interpreter": {
   "hash": "51273a9d1c085b52fc414117ccfdd355a1ae671d0c2292f3db26aa0182437867"
  },
  "kernelspec": {
   "display_name": "Python 3.7.10 ('p37')",
   "language": "python",
   "name": "python3"
  },
  "language_info": {
   "codemirror_mode": {
    "name": "ipython",
    "version": 3
   },
   "file_extension": ".py",
   "mimetype": "text/x-python",
   "name": "python",
   "nbconvert_exporter": "python",
   "pygments_lexer": "ipython3",
   "version": "3.7.10"
  },
  "orig_nbformat": 4
 },
 "nbformat": 4,
 "nbformat_minor": 2
}
