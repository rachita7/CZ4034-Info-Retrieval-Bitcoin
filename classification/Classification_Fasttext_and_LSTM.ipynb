{
  "cells": [
    {
      "cell_type": "code",
      "execution_count": null,
      "metadata": {
        "id": "pLxnVJLqFind"
      },
      "outputs": [],
      "source": [
        "# code reference: https://github.com/jatinmandav/Neural-Networks/blob/master/Sentiment-Analysis/fastText/sentiment_analysis_fastext.ipynb\n",
        "# import libraries\n",
        "from gensim.models import FastText\n",
        "import pandas as pd\n",
        "import time\n",
        "import numpy as np\n",
        "import keras.backend as K\n",
        "from sklearn.utils.class_weight import compute_class_weight\n",
        "from keras.utils.vis_utils import plot_model\n",
        "from keras.models import load_model\n",
        "import matplotlib.pyplot as plt\n",
        "from keras.models import Sequential\n",
        "from keras.layers import Conv1D, Dropout, Dense, Flatten, LSTM, MaxPooling1D, Bidirectional\n",
        "from tensorflow import keras\n",
        "from keras.callbacks import EarlyStopping, TensorBoard, ModelCheckpoint\n",
        "from sklearn.metrics import accuracy_score\n",
        "from sklearn.metrics import precision_score\n",
        "from sklearn.metrics import recall_score\n",
        "from sklearn.metrics import f1_score\n",
        "import matplotlib.pyplot as plt\n",
        "import numpy as np\n",
        "import itertools\n",
        "from sklearn.metrics import confusion_matrix"
      ]
    },
    {
      "cell_type": "code",
      "execution_count": null,
      "metadata": {},
      "outputs": [],
      "source": [
        "# import dataset\n",
        "df_train =pd.read_csv('/content/drive/MyDrive/Information_Retrieval_Project/Fasttext_CNN/train_data_inference.csv')\n",
        "df_test =pd.read_csv('/content/drive/MyDrive/Information_Retrieval_Project/Fasttext_CNN/test_data_inference.csv')"
      ]
    },
    {
      "cell_type": "code",
      "execution_count": 76,
      "metadata": {
        "colab": {
          "base_uri": "https://localhost:8080/"
        },
        "id": "e_SFo84ZFkd5",
        "outputId": "51896c6d-7a7a-4726-c48f-3c0c631c3756"
      },
      "outputs": [
        {
          "data": {
            "text/plain": [
              "(2834, 14)"
            ]
          },
          "execution_count": 76,
          "metadata": {},
          "output_type": "execute_result"
        }
      ],
      "source": [
        "df_train.shape"
      ]
    },
    {
      "cell_type": "code",
      "execution_count": 79,
      "metadata": {
        "colab": {
          "base_uri": "https://localhost:8080/"
        },
        "id": "Q1AIh1hkHC1J",
        "outputId": "60379950-a729-4205-8ec4-8e9588de94bb"
      },
      "outputs": [
        {
          "data": {
            "text/plain": [
              " 0.0    1539\n",
              " 1.0     760\n",
              "-1.0     535\n",
              "Name: sentiment, dtype: int64"
            ]
          },
          "execution_count": 79,
          "metadata": {},
          "output_type": "execute_result"
        }
      ],
      "source": [
        "df_train['sentiment'].value_counts()"
      ]
    },
    {
      "cell_type": "code",
      "execution_count": 178,
      "metadata": {
        "colab": {
          "base_uri": "https://localhost:8080/",
          "height": 506
        },
        "id": "3R3myNIBxkne",
        "outputId": "70229d1f-fd98-4afb-99f3-c07002f69ccc"
      },
      "outputs": [
        {
          "data": {
            "text/html": [
              "\n",
              "  <div id=\"df-62b5d52f-22b1-4087-acb5-ea3e4a06b8d6\">\n",
              "    <div class=\"colab-df-container\">\n",
              "      <div>\n",
              "<style scoped>\n",
              "    .dataframe tbody tr th:only-of-type {\n",
              "        vertical-align: middle;\n",
              "    }\n",
              "\n",
              "    .dataframe tbody tr th {\n",
              "        vertical-align: top;\n",
              "    }\n",
              "\n",
              "    .dataframe thead th {\n",
              "        text-align: right;\n",
              "    }\n",
              "</style>\n",
              "<table border=\"1\" class=\"dataframe\">\n",
              "  <thead>\n",
              "    <tr style=\"text-align: right;\">\n",
              "      <th></th>\n",
              "      <th>Unnamed: 0</th>\n",
              "      <th>processed_content</th>\n",
              "      <th>sentiment</th>\n",
              "      <th>username</th>\n",
              "      <th>content</th>\n",
              "      <th>date</th>\n",
              "      <th>country</th>\n",
              "      <th>replyCount</th>\n",
              "      <th>retweetCount</th>\n",
              "      <th>likeCount</th>\n",
              "      <th>url</th>\n",
              "      <th>textblob_class</th>\n",
              "      <th>vader_class</th>\n",
              "      <th>inference</th>\n",
              "    </tr>\n",
              "  </thead>\n",
              "  <tbody>\n",
              "    <tr>\n",
              "      <th>0</th>\n",
              "      <td>0</td>\n",
              "      <td>thank you for this huge opportunity to win fol...</td>\n",
              "      <td>1.0</td>\n",
              "      <td>itzeyrnz_21</td>\n",
              "      <td>@chitaglorya__ @BTC_NFT @CryptoZillaVC @Block_...</td>\n",
              "      <td>2021-11-14 03:15:09+00:00</td>\n",
              "      <td>Israel</td>\n",
              "      <td>0</td>\n",
              "      <td>0</td>\n",
              "      <td>0</td>\n",
              "      <td>https://twitter.com/itzeyrnz_21/status/1459721...</td>\n",
              "      <td>1</td>\n",
              "      <td>1</td>\n",
              "      <td>1.0</td>\n",
              "    </tr>\n",
              "    <tr>\n",
              "      <th>1</th>\n",
              "      <td>6</td>\n",
              "      <td>i be work this myself great project lot of pot...</td>\n",
              "      <td>1.0</td>\n",
              "      <td>GillBa8scrypto</td>\n",
              "      <td>@yvtweets I'm working this myself...great proj...</td>\n",
              "      <td>2021-12-27 23:59:50+00:00</td>\n",
              "      <td>Argentina</td>\n",
              "      <td>0</td>\n",
              "      <td>0</td>\n",
              "      <td>0</td>\n",
              "      <td>https://twitter.com/GillBa8scrypto/status/1475...</td>\n",
              "      <td>1</td>\n",
              "      <td>1</td>\n",
              "      <td>1.0</td>\n",
              "    </tr>\n",
              "    <tr>\n",
              "      <th>2</th>\n",
              "      <td>9</td>\n",
              "      <td>at least 50 bitcoin</td>\n",
              "      <td>1.0</td>\n",
              "      <td>Skywalker01m</td>\n",
              "      <td>At least 50 bitcoins @ZentralratJuden</td>\n",
              "      <td>2021-11-14 18:12:30+00:00</td>\n",
              "      <td>France</td>\n",
              "      <td>1</td>\n",
              "      <td>0</td>\n",
              "      <td>0</td>\n",
              "      <td>https://twitter.com/Skywalker01m/status/145994...</td>\n",
              "      <td>-1</td>\n",
              "      <td>0</td>\n",
              "      <td>0.0</td>\n",
              "    </tr>\n",
              "    <tr>\n",
              "      <th>3</th>\n",
              "      <td>14</td>\n",
              "      <td>show me your bank interest bank earn by loudsp...</td>\n",
              "      <td>1.0</td>\n",
              "      <td>rBelgriego</td>\n",
              "      <td>Show me your bank interest 🏦\\nEarnings by http...</td>\n",
              "      <td>2021-11-11 13:36:08+00:00</td>\n",
              "      <td>France</td>\n",
              "      <td>2</td>\n",
              "      <td>4</td>\n",
              "      <td>15</td>\n",
              "      <td>https://twitter.com/rBelgriego/status/14587906...</td>\n",
              "      <td>0</td>\n",
              "      <td>1</td>\n",
              "      <td>0.0</td>\n",
              "    </tr>\n",
              "    <tr>\n",
              "      <th>4</th>\n",
              "      <td>15</td>\n",
              "      <td>here we be with the fax with max tik tok page ...</td>\n",
              "      <td>0.0</td>\n",
              "      <td>StateyTeam</td>\n",
              "      <td>Here we are with the Fax with Max Tik Tok page...</td>\n",
              "      <td>2021-11-08 02:43:14+00:00</td>\n",
              "      <td>Mexico</td>\n",
              "      <td>1</td>\n",
              "      <td>2</td>\n",
              "      <td>0</td>\n",
              "      <td>https://twitter.com/StateyTeam/status/14575391...</td>\n",
              "      <td>0</td>\n",
              "      <td>0</td>\n",
              "      <td>0.0</td>\n",
              "    </tr>\n",
              "  </tbody>\n",
              "</table>\n",
              "</div>\n",
              "      <button class=\"colab-df-convert\" onclick=\"convertToInteractive('df-62b5d52f-22b1-4087-acb5-ea3e4a06b8d6')\"\n",
              "              title=\"Convert this dataframe to an interactive table.\"\n",
              "              style=\"display:none;\">\n",
              "        \n",
              "  <svg xmlns=\"http://www.w3.org/2000/svg\" height=\"24px\"viewBox=\"0 0 24 24\"\n",
              "       width=\"24px\">\n",
              "    <path d=\"M0 0h24v24H0V0z\" fill=\"none\"/>\n",
              "    <path d=\"M18.56 5.44l.94 2.06.94-2.06 2.06-.94-2.06-.94-.94-2.06-.94 2.06-2.06.94zm-11 1L8.5 8.5l.94-2.06 2.06-.94-2.06-.94L8.5 2.5l-.94 2.06-2.06.94zm10 10l.94 2.06.94-2.06 2.06-.94-2.06-.94-.94-2.06-.94 2.06-2.06.94z\"/><path d=\"M17.41 7.96l-1.37-1.37c-.4-.4-.92-.59-1.43-.59-.52 0-1.04.2-1.43.59L10.3 9.45l-7.72 7.72c-.78.78-.78 2.05 0 2.83L4 21.41c.39.39.9.59 1.41.59.51 0 1.02-.2 1.41-.59l7.78-7.78 2.81-2.81c.8-.78.8-2.07 0-2.86zM5.41 20L4 18.59l7.72-7.72 1.47 1.35L5.41 20z\"/>\n",
              "  </svg>\n",
              "      </button>\n",
              "      \n",
              "  <style>\n",
              "    .colab-df-container {\n",
              "      display:flex;\n",
              "      flex-wrap:wrap;\n",
              "      gap: 12px;\n",
              "    }\n",
              "\n",
              "    .colab-df-convert {\n",
              "      background-color: #E8F0FE;\n",
              "      border: none;\n",
              "      border-radius: 50%;\n",
              "      cursor: pointer;\n",
              "      display: none;\n",
              "      fill: #1967D2;\n",
              "      height: 32px;\n",
              "      padding: 0 0 0 0;\n",
              "      width: 32px;\n",
              "    }\n",
              "\n",
              "    .colab-df-convert:hover {\n",
              "      background-color: #E2EBFA;\n",
              "      box-shadow: 0px 1px 2px rgba(60, 64, 67, 0.3), 0px 1px 3px 1px rgba(60, 64, 67, 0.15);\n",
              "      fill: #174EA6;\n",
              "    }\n",
              "\n",
              "    [theme=dark] .colab-df-convert {\n",
              "      background-color: #3B4455;\n",
              "      fill: #D2E3FC;\n",
              "    }\n",
              "\n",
              "    [theme=dark] .colab-df-convert:hover {\n",
              "      background-color: #434B5C;\n",
              "      box-shadow: 0px 1px 3px 1px rgba(0, 0, 0, 0.15);\n",
              "      filter: drop-shadow(0px 1px 2px rgba(0, 0, 0, 0.3));\n",
              "      fill: #FFFFFF;\n",
              "    }\n",
              "  </style>\n",
              "\n",
              "      <script>\n",
              "        const buttonEl =\n",
              "          document.querySelector('#df-62b5d52f-22b1-4087-acb5-ea3e4a06b8d6 button.colab-df-convert');\n",
              "        buttonEl.style.display =\n",
              "          google.colab.kernel.accessAllowed ? 'block' : 'none';\n",
              "\n",
              "        async function convertToInteractive(key) {\n",
              "          const element = document.querySelector('#df-62b5d52f-22b1-4087-acb5-ea3e4a06b8d6');\n",
              "          const dataTable =\n",
              "            await google.colab.kernel.invokeFunction('convertToInteractive',\n",
              "                                                     [key], {});\n",
              "          if (!dataTable) return;\n",
              "\n",
              "          const docLinkHtml = 'Like what you see? Visit the ' +\n",
              "            '<a target=\"_blank\" href=https://colab.research.google.com/notebooks/data_table.ipynb>data table notebook</a>'\n",
              "            + ' to learn more about interactive tables.';\n",
              "          element.innerHTML = '';\n",
              "          dataTable['output_type'] = 'display_data';\n",
              "          await google.colab.output.renderOutput(dataTable, element);\n",
              "          const docLink = document.createElement('div');\n",
              "          docLink.innerHTML = docLinkHtml;\n",
              "          element.appendChild(docLink);\n",
              "        }\n",
              "      </script>\n",
              "    </div>\n",
              "  </div>\n",
              "  "
            ],
            "text/plain": [
              "   Unnamed: 0                                  processed_content  sentiment  \\\n",
              "0           0  thank you for this huge opportunity to win fol...        1.0   \n",
              "1           6  i be work this myself great project lot of pot...        1.0   \n",
              "2           9                                at least 50 bitcoin        1.0   \n",
              "3          14  show me your bank interest bank earn by loudsp...        1.0   \n",
              "4          15  here we be with the fax with max tik tok page ...        0.0   \n",
              "\n",
              "         username                                            content  \\\n",
              "0     itzeyrnz_21  @chitaglorya__ @BTC_NFT @CryptoZillaVC @Block_...   \n",
              "1  GillBa8scrypto  @yvtweets I'm working this myself...great proj...   \n",
              "2    Skywalker01m              At least 50 bitcoins @ZentralratJuden   \n",
              "3      rBelgriego  Show me your bank interest 🏦\\nEarnings by http...   \n",
              "4      StateyTeam  Here we are with the Fax with Max Tik Tok page...   \n",
              "\n",
              "                        date    country  replyCount  retweetCount  likeCount  \\\n",
              "0  2021-11-14 03:15:09+00:00     Israel           0             0          0   \n",
              "1  2021-12-27 23:59:50+00:00  Argentina           0             0          0   \n",
              "2  2021-11-14 18:12:30+00:00     France           1             0          0   \n",
              "3  2021-11-11 13:36:08+00:00     France           2             4         15   \n",
              "4  2021-11-08 02:43:14+00:00     Mexico           1             2          0   \n",
              "\n",
              "                                                 url  textblob_class  \\\n",
              "0  https://twitter.com/itzeyrnz_21/status/1459721...               1   \n",
              "1  https://twitter.com/GillBa8scrypto/status/1475...               1   \n",
              "2  https://twitter.com/Skywalker01m/status/145994...              -1   \n",
              "3  https://twitter.com/rBelgriego/status/14587906...               0   \n",
              "4  https://twitter.com/StateyTeam/status/14575391...               0   \n",
              "\n",
              "   vader_class  inference  \n",
              "0            1        1.0  \n",
              "1            1        1.0  \n",
              "2            0        0.0  \n",
              "3            1        0.0  \n",
              "4            0        0.0  "
            ]
          },
          "execution_count": 178,
          "metadata": {},
          "output_type": "execute_result"
        }
      ],
      "source": [
        "df_train.head()"
      ]
    },
    {
      "cell_type": "code",
      "execution_count": 80,
      "metadata": {
        "colab": {
          "base_uri": "https://localhost:8080/"
        },
        "id": "BcOznHyCG_JU",
        "outputId": "24980542-e9e6-4b74-9835-47031d2da860"
      },
      "outputs": [
        {
          "data": {
            "text/plain": [
              "(1149, 14)"
            ]
          },
          "execution_count": 80,
          "metadata": {},
          "output_type": "execute_result"
        }
      ],
      "source": [
        "df_test.shape"
      ]
    },
    {
      "cell_type": "code",
      "execution_count": 81,
      "metadata": {
        "colab": {
          "base_uri": "https://localhost:8080/"
        },
        "id": "Q5W8BmOKHA7f",
        "outputId": "a5ccc46c-e062-4239-9cfe-a8895cad7025"
      },
      "outputs": [
        {
          "data": {
            "text/plain": [
              " 0    542\n",
              " 1    388\n",
              "-1    219\n",
              "Name: sentiment, dtype: int64"
            ]
          },
          "execution_count": 81,
          "metadata": {},
          "output_type": "execute_result"
        }
      ],
      "source": [
        "df_test['sentiment'].value_counts()"
      ]
    },
    {
      "cell_type": "code",
      "execution_count": 83,
      "metadata": {
        "colab": {
          "base_uri": "https://localhost:8080/",
          "height": 438
        },
        "id": "HLHQbH_xIteb",
        "outputId": "b6a21f77-1bdc-435a-aec6-671f9a75f19d"
      },
      "outputs": [
        {
          "data": {
            "text/html": [
              "\n",
              "  <div id=\"df-724ab4dd-4a35-461d-a158-56fe99ea11e4\">\n",
              "    <div class=\"colab-df-container\">\n",
              "      <div>\n",
              "<style scoped>\n",
              "    .dataframe tbody tr th:only-of-type {\n",
              "        vertical-align: middle;\n",
              "    }\n",
              "\n",
              "    .dataframe tbody tr th {\n",
              "        vertical-align: top;\n",
              "    }\n",
              "\n",
              "    .dataframe thead th {\n",
              "        text-align: right;\n",
              "    }\n",
              "</style>\n",
              "<table border=\"1\" class=\"dataframe\">\n",
              "  <thead>\n",
              "    <tr style=\"text-align: right;\">\n",
              "      <th></th>\n",
              "      <th>Unnamed: 0</th>\n",
              "      <th>processed_content</th>\n",
              "      <th>sentiment</th>\n",
              "      <th>username</th>\n",
              "      <th>content</th>\n",
              "      <th>date</th>\n",
              "      <th>country</th>\n",
              "      <th>replyCount</th>\n",
              "      <th>retweetCount</th>\n",
              "      <th>likeCount</th>\n",
              "      <th>url</th>\n",
              "      <th>textblob_class</th>\n",
              "      <th>vader_class</th>\n",
              "      <th>inference</th>\n",
              "    </tr>\n",
              "  </thead>\n",
              "  <tbody>\n",
              "    <tr>\n",
              "      <th>0</th>\n",
              "      <td>4</td>\n",
              "      <td>all you need to do be keep buy utc and eth and...</td>\n",
              "      <td>1</td>\n",
              "      <td>Shamrock680</td>\n",
              "      <td>@robertakanda @RobertOstler All you need to do...</td>\n",
              "      <td>2021-12-27 23:52:56+00:00</td>\n",
              "      <td>Argentina</td>\n",
              "      <td>0</td>\n",
              "      <td>0</td>\n",
              "      <td>0</td>\n",
              "      <td>https://twitter.com/Shamrock680/status/1475615...</td>\n",
              "      <td>0</td>\n",
              "      <td>0</td>\n",
              "      <td>1.0</td>\n",
              "    </tr>\n",
              "    <tr>\n",
              "      <th>1</th>\n",
              "      <td>5</td>\n",
              "      <td>buy bitcoin on the bitstamp exchange this type...</td>\n",
              "      <td>0</td>\n",
              "      <td>BskdTina</td>\n",
              "      <td>Buying Bitcoins on the Bitstamp exchange. This...</td>\n",
              "      <td>2021-12-27 22:30:40+00:00</td>\n",
              "      <td>Argentina</td>\n",
              "      <td>0</td>\n",
              "      <td>0</td>\n",
              "      <td>3</td>\n",
              "      <td>https://twitter.com/BskdTina/status/1475595009...</td>\n",
              "      <td>1</td>\n",
              "      <td>1</td>\n",
              "      <td>0.0</td>\n",
              "    </tr>\n",
              "    <tr>\n",
              "      <th>2</th>\n",
              "      <td>12</td>\n",
              "      <td>a quick update on the recent performance of po...</td>\n",
              "      <td>1</td>\n",
              "      <td>PigsterC</td>\n",
              "      <td>A quick update on the recent performance of Pi...</td>\n",
              "      <td>2021-12-26 22:28:22+00:00</td>\n",
              "      <td>Argentina</td>\n",
              "      <td>0</td>\n",
              "      <td>1</td>\n",
              "      <td>1</td>\n",
              "      <td>https://twitter.com/PigsterC/status/1475232043...</td>\n",
              "      <td>1</td>\n",
              "      <td>1</td>\n",
              "      <td>1.0</td>\n",
              "    </tr>\n",
              "    <tr>\n",
              "      <th>3</th>\n",
              "      <td>19</td>\n",
              "      <td>utc bounce at 60300 rocket rocket rocket</td>\n",
              "      <td>1</td>\n",
              "      <td>Stockwa60818438</td>\n",
              "      <td>BTC bounce at 60300 🚀🚀🚀</td>\n",
              "      <td>2021-10-29 07:23:35+00:00</td>\n",
              "      <td>Switzerland</td>\n",
              "      <td>0</td>\n",
              "      <td>0</td>\n",
              "      <td>0</td>\n",
              "      <td>https://twitter.com/Stockwa60818438/status/145...</td>\n",
              "      <td>0</td>\n",
              "      <td>0</td>\n",
              "      <td>1.0</td>\n",
              "    </tr>\n",
              "    <tr>\n",
              "      <th>4</th>\n",
              "      <td>21</td>\n",
              "      <td>sound like a good recipe to me smiling_face hu...</td>\n",
              "      <td>1</td>\n",
              "      <td>CEOSCRYPTO</td>\n",
              "      <td>Sounds like a good #CryptoEqualsOptions recipe...</td>\n",
              "      <td>2021-12-26 20:05:07+00:00</td>\n",
              "      <td>Argentina</td>\n",
              "      <td>0</td>\n",
              "      <td>0</td>\n",
              "      <td>1</td>\n",
              "      <td>https://twitter.com/CEOSCRYPTO/status/14751959...</td>\n",
              "      <td>1</td>\n",
              "      <td>1</td>\n",
              "      <td>1.0</td>\n",
              "    </tr>\n",
              "  </tbody>\n",
              "</table>\n",
              "</div>\n",
              "      <button class=\"colab-df-convert\" onclick=\"convertToInteractive('df-724ab4dd-4a35-461d-a158-56fe99ea11e4')\"\n",
              "              title=\"Convert this dataframe to an interactive table.\"\n",
              "              style=\"display:none;\">\n",
              "        \n",
              "  <svg xmlns=\"http://www.w3.org/2000/svg\" height=\"24px\"viewBox=\"0 0 24 24\"\n",
              "       width=\"24px\">\n",
              "    <path d=\"M0 0h24v24H0V0z\" fill=\"none\"/>\n",
              "    <path d=\"M18.56 5.44l.94 2.06.94-2.06 2.06-.94-2.06-.94-.94-2.06-.94 2.06-2.06.94zm-11 1L8.5 8.5l.94-2.06 2.06-.94-2.06-.94L8.5 2.5l-.94 2.06-2.06.94zm10 10l.94 2.06.94-2.06 2.06-.94-2.06-.94-.94-2.06-.94 2.06-2.06.94z\"/><path d=\"M17.41 7.96l-1.37-1.37c-.4-.4-.92-.59-1.43-.59-.52 0-1.04.2-1.43.59L10.3 9.45l-7.72 7.72c-.78.78-.78 2.05 0 2.83L4 21.41c.39.39.9.59 1.41.59.51 0 1.02-.2 1.41-.59l7.78-7.78 2.81-2.81c.8-.78.8-2.07 0-2.86zM5.41 20L4 18.59l7.72-7.72 1.47 1.35L5.41 20z\"/>\n",
              "  </svg>\n",
              "      </button>\n",
              "      \n",
              "  <style>\n",
              "    .colab-df-container {\n",
              "      display:flex;\n",
              "      flex-wrap:wrap;\n",
              "      gap: 12px;\n",
              "    }\n",
              "\n",
              "    .colab-df-convert {\n",
              "      background-color: #E8F0FE;\n",
              "      border: none;\n",
              "      border-radius: 50%;\n",
              "      cursor: pointer;\n",
              "      display: none;\n",
              "      fill: #1967D2;\n",
              "      height: 32px;\n",
              "      padding: 0 0 0 0;\n",
              "      width: 32px;\n",
              "    }\n",
              "\n",
              "    .colab-df-convert:hover {\n",
              "      background-color: #E2EBFA;\n",
              "      box-shadow: 0px 1px 2px rgba(60, 64, 67, 0.3), 0px 1px 3px 1px rgba(60, 64, 67, 0.15);\n",
              "      fill: #174EA6;\n",
              "    }\n",
              "\n",
              "    [theme=dark] .colab-df-convert {\n",
              "      background-color: #3B4455;\n",
              "      fill: #D2E3FC;\n",
              "    }\n",
              "\n",
              "    [theme=dark] .colab-df-convert:hover {\n",
              "      background-color: #434B5C;\n",
              "      box-shadow: 0px 1px 3px 1px rgba(0, 0, 0, 0.15);\n",
              "      filter: drop-shadow(0px 1px 2px rgba(0, 0, 0, 0.3));\n",
              "      fill: #FFFFFF;\n",
              "    }\n",
              "  </style>\n",
              "\n",
              "      <script>\n",
              "        const buttonEl =\n",
              "          document.querySelector('#df-724ab4dd-4a35-461d-a158-56fe99ea11e4 button.colab-df-convert');\n",
              "        buttonEl.style.display =\n",
              "          google.colab.kernel.accessAllowed ? 'block' : 'none';\n",
              "\n",
              "        async function convertToInteractive(key) {\n",
              "          const element = document.querySelector('#df-724ab4dd-4a35-461d-a158-56fe99ea11e4');\n",
              "          const dataTable =\n",
              "            await google.colab.kernel.invokeFunction('convertToInteractive',\n",
              "                                                     [key], {});\n",
              "          if (!dataTable) return;\n",
              "\n",
              "          const docLinkHtml = 'Like what you see? Visit the ' +\n",
              "            '<a target=\"_blank\" href=https://colab.research.google.com/notebooks/data_table.ipynb>data table notebook</a>'\n",
              "            + ' to learn more about interactive tables.';\n",
              "          element.innerHTML = '';\n",
              "          dataTable['output_type'] = 'display_data';\n",
              "          await google.colab.output.renderOutput(dataTable, element);\n",
              "          const docLink = document.createElement('div');\n",
              "          docLink.innerHTML = docLinkHtml;\n",
              "          element.appendChild(docLink);\n",
              "        }\n",
              "      </script>\n",
              "    </div>\n",
              "  </div>\n",
              "  "
            ],
            "text/plain": [
              "   Unnamed: 0                                  processed_content  sentiment  \\\n",
              "0           4  all you need to do be keep buy utc and eth and...          1   \n",
              "1           5  buy bitcoin on the bitstamp exchange this type...          0   \n",
              "2          12  a quick update on the recent performance of po...          1   \n",
              "3          19           utc bounce at 60300 rocket rocket rocket          1   \n",
              "4          21  sound like a good recipe to me smiling_face hu...          1   \n",
              "\n",
              "          username                                            content  \\\n",
              "0      Shamrock680  @robertakanda @RobertOstler All you need to do...   \n",
              "1         BskdTina  Buying Bitcoins on the Bitstamp exchange. This...   \n",
              "2         PigsterC  A quick update on the recent performance of Pi...   \n",
              "3  Stockwa60818438                            BTC bounce at 60300 🚀🚀🚀   \n",
              "4       CEOSCRYPTO  Sounds like a good #CryptoEqualsOptions recipe...   \n",
              "\n",
              "                        date      country  replyCount  retweetCount  \\\n",
              "0  2021-12-27 23:52:56+00:00    Argentina           0             0   \n",
              "1  2021-12-27 22:30:40+00:00    Argentina           0             0   \n",
              "2  2021-12-26 22:28:22+00:00    Argentina           0             1   \n",
              "3  2021-10-29 07:23:35+00:00  Switzerland           0             0   \n",
              "4  2021-12-26 20:05:07+00:00    Argentina           0             0   \n",
              "\n",
              "   likeCount                                                url  \\\n",
              "0          0  https://twitter.com/Shamrock680/status/1475615...   \n",
              "1          3  https://twitter.com/BskdTina/status/1475595009...   \n",
              "2          1  https://twitter.com/PigsterC/status/1475232043...   \n",
              "3          0  https://twitter.com/Stockwa60818438/status/145...   \n",
              "4          1  https://twitter.com/CEOSCRYPTO/status/14751959...   \n",
              "\n",
              "   textblob_class  vader_class  inference  \n",
              "0               0            0        1.0  \n",
              "1               1            1        0.0  \n",
              "2               1            1        1.0  \n",
              "3               0            0        1.0  \n",
              "4               1            1        1.0  "
            ]
          },
          "execution_count": 83,
          "metadata": {},
          "output_type": "execute_result"
        }
      ],
      "source": [
        "df_test.head()"
      ]
    },
    {
      "cell_type": "code",
      "execution_count": 123,
      "metadata": {
        "colab": {
          "base_uri": "https://localhost:8080/",
          "height": 204
        },
        "id": "pjUf-oIzmHwp",
        "outputId": "d35facab-8413-4404-b601-1793ebfbb0f2"
      },
      "outputs": [
        {
          "data": {
            "text/html": [
              "\n",
              "  <div id=\"df-bc2a6a03-b91c-4412-9f09-09e78d54617b\">\n",
              "    <div class=\"colab-df-container\">\n",
              "      <div>\n",
              "<style scoped>\n",
              "    .dataframe tbody tr th:only-of-type {\n",
              "        vertical-align: middle;\n",
              "    }\n",
              "\n",
              "    .dataframe tbody tr th {\n",
              "        vertical-align: top;\n",
              "    }\n",
              "\n",
              "    .dataframe thead th {\n",
              "        text-align: right;\n",
              "    }\n",
              "</style>\n",
              "<table border=\"1\" class=\"dataframe\">\n",
              "  <thead>\n",
              "    <tr style=\"text-align: right;\">\n",
              "      <th></th>\n",
              "      <th>processed_content</th>\n",
              "      <th>sentiment</th>\n",
              "    </tr>\n",
              "  </thead>\n",
              "  <tbody>\n",
              "    <tr>\n",
              "      <th>0</th>\n",
              "      <td>thank you for this huge opportunity to win fol...</td>\n",
              "      <td>1.0</td>\n",
              "    </tr>\n",
              "    <tr>\n",
              "      <th>1</th>\n",
              "      <td>i be work this myself great project lot of pot...</td>\n",
              "      <td>1.0</td>\n",
              "    </tr>\n",
              "    <tr>\n",
              "      <th>2</th>\n",
              "      <td>at least 50 bitcoin</td>\n",
              "      <td>1.0</td>\n",
              "    </tr>\n",
              "    <tr>\n",
              "      <th>3</th>\n",
              "      <td>show me your bank interest bank earn by loudsp...</td>\n",
              "      <td>1.0</td>\n",
              "    </tr>\n",
              "    <tr>\n",
              "      <th>4</th>\n",
              "      <td>here we be with the fax with max tik tok page ...</td>\n",
              "      <td>0.0</td>\n",
              "    </tr>\n",
              "  </tbody>\n",
              "</table>\n",
              "</div>\n",
              "      <button class=\"colab-df-convert\" onclick=\"convertToInteractive('df-bc2a6a03-b91c-4412-9f09-09e78d54617b')\"\n",
              "              title=\"Convert this dataframe to an interactive table.\"\n",
              "              style=\"display:none;\">\n",
              "        \n",
              "  <svg xmlns=\"http://www.w3.org/2000/svg\" height=\"24px\"viewBox=\"0 0 24 24\"\n",
              "       width=\"24px\">\n",
              "    <path d=\"M0 0h24v24H0V0z\" fill=\"none\"/>\n",
              "    <path d=\"M18.56 5.44l.94 2.06.94-2.06 2.06-.94-2.06-.94-.94-2.06-.94 2.06-2.06.94zm-11 1L8.5 8.5l.94-2.06 2.06-.94-2.06-.94L8.5 2.5l-.94 2.06-2.06.94zm10 10l.94 2.06.94-2.06 2.06-.94-2.06-.94-.94-2.06-.94 2.06-2.06.94z\"/><path d=\"M17.41 7.96l-1.37-1.37c-.4-.4-.92-.59-1.43-.59-.52 0-1.04.2-1.43.59L10.3 9.45l-7.72 7.72c-.78.78-.78 2.05 0 2.83L4 21.41c.39.39.9.59 1.41.59.51 0 1.02-.2 1.41-.59l7.78-7.78 2.81-2.81c.8-.78.8-2.07 0-2.86zM5.41 20L4 18.59l7.72-7.72 1.47 1.35L5.41 20z\"/>\n",
              "  </svg>\n",
              "      </button>\n",
              "      \n",
              "  <style>\n",
              "    .colab-df-container {\n",
              "      display:flex;\n",
              "      flex-wrap:wrap;\n",
              "      gap: 12px;\n",
              "    }\n",
              "\n",
              "    .colab-df-convert {\n",
              "      background-color: #E8F0FE;\n",
              "      border: none;\n",
              "      border-radius: 50%;\n",
              "      cursor: pointer;\n",
              "      display: none;\n",
              "      fill: #1967D2;\n",
              "      height: 32px;\n",
              "      padding: 0 0 0 0;\n",
              "      width: 32px;\n",
              "    }\n",
              "\n",
              "    .colab-df-convert:hover {\n",
              "      background-color: #E2EBFA;\n",
              "      box-shadow: 0px 1px 2px rgba(60, 64, 67, 0.3), 0px 1px 3px 1px rgba(60, 64, 67, 0.15);\n",
              "      fill: #174EA6;\n",
              "    }\n",
              "\n",
              "    [theme=dark] .colab-df-convert {\n",
              "      background-color: #3B4455;\n",
              "      fill: #D2E3FC;\n",
              "    }\n",
              "\n",
              "    [theme=dark] .colab-df-convert:hover {\n",
              "      background-color: #434B5C;\n",
              "      box-shadow: 0px 1px 3px 1px rgba(0, 0, 0, 0.15);\n",
              "      filter: drop-shadow(0px 1px 2px rgba(0, 0, 0, 0.3));\n",
              "      fill: #FFFFFF;\n",
              "    }\n",
              "  </style>\n",
              "\n",
              "      <script>\n",
              "        const buttonEl =\n",
              "          document.querySelector('#df-bc2a6a03-b91c-4412-9f09-09e78d54617b button.colab-df-convert');\n",
              "        buttonEl.style.display =\n",
              "          google.colab.kernel.accessAllowed ? 'block' : 'none';\n",
              "\n",
              "        async function convertToInteractive(key) {\n",
              "          const element = document.querySelector('#df-bc2a6a03-b91c-4412-9f09-09e78d54617b');\n",
              "          const dataTable =\n",
              "            await google.colab.kernel.invokeFunction('convertToInteractive',\n",
              "                                                     [key], {});\n",
              "          if (!dataTable) return;\n",
              "\n",
              "          const docLinkHtml = 'Like what you see? Visit the ' +\n",
              "            '<a target=\"_blank\" href=https://colab.research.google.com/notebooks/data_table.ipynb>data table notebook</a>'\n",
              "            + ' to learn more about interactive tables.';\n",
              "          element.innerHTML = '';\n",
              "          dataTable['output_type'] = 'display_data';\n",
              "          await google.colab.output.renderOutput(dataTable, element);\n",
              "          const docLink = document.createElement('div');\n",
              "          docLink.innerHTML = docLinkHtml;\n",
              "          element.appendChild(docLink);\n",
              "        }\n",
              "      </script>\n",
              "    </div>\n",
              "  </div>\n",
              "  "
            ],
            "text/plain": [
              "                                   processed_content  sentiment\n",
              "0  thank you for this huge opportunity to win fol...        1.0\n",
              "1  i be work this myself great project lot of pot...        1.0\n",
              "2                                at least 50 bitcoin        1.0\n",
              "3  show me your bank interest bank earn by loudsp...        1.0\n",
              "4  here we be with the fax with max tik tok page ...        0.0"
            ]
          },
          "execution_count": 123,
          "metadata": {},
          "output_type": "execute_result"
        }
      ],
      "source": [
        "df1=pd.DataFrame(df_train['processed_content'])\n",
        "df1['sentiment']= df_train['sentiment']\n",
        "df2=pd.DataFrame(df_test['processed_content'])\n",
        "df2['sentiment']= df_test['sentiment']\n",
        "df3 = df1.append(df2)\n",
        "df3.head()"
      ]
    },
    {
      "cell_type": "code",
      "execution_count": 124,
      "metadata": {
        "id": "tQJQ_-nTHOKU"
      },
      "outputs": [],
      "source": [
        "# declaring constants\n",
        "vector_size = 100\n",
        "window = 5"
      ]
    },
    {
      "cell_type": "code",
      "execution_count": 119,
      "metadata": {
        "colab": {
          "base_uri": "https://localhost:8080/"
        },
        "id": "Zz6QHPtVHRS3",
        "outputId": "59861429-6405-423a-bd45-c5eb95dce8ed"
      },
      "outputs": [
        {
          "name": "stdout",
          "output_type": "stream",
          "text": [
            "Generating FastText Vectors ..\n",
            "FastText Created in 1.757413387298584 seconds.\n",
            "FastText Model saved at /content/drive/MyDrive/Information_Retrieval_Project/Fasttext_CNN/fasttext.model\n"
          ]
        }
      ],
      "source": [
        "# trianing fats text model\n",
        "fasttext_model = '/content/drive/MyDrive/Information_Retrieval_Project/Fasttext_CNN/fasttext.model'\n",
        "\n",
        "print('Generating FastText Vectors ..')\n",
        "\n",
        "start = time.time()\n",
        "\n",
        "model = FastText(size=vector_size)\n",
        "model.build_vocab(df3['processed_content'])\n",
        "model.train(df3['processed_content'], window=window, min_count=1, workers=4, \n",
        "            total_examples=model.corpus_count, epochs=model.epochs)\n",
        "\n",
        "print('FastText Created in {} seconds.'.format(time.time() - start))\n",
        "\n",
        "model.save(fasttext_model)\n",
        "print('FastText Model saved at {}'.format(fasttext_model))\n",
        "\n",
        "del model"
      ]
    },
    {
      "cell_type": "code",
      "execution_count": 120,
      "metadata": {
        "id": "myY5ffWIHf89"
      },
      "outputs": [],
      "source": [
        "# load trained model\n",
        "model = FastText.load(fasttext_model)"
      ]
    },
    {
      "cell_type": "code",
      "execution_count": 121,
      "metadata": {
        "id": "7TOnPP9BHw-S"
      },
      "outputs": [],
      "source": [
        "# extract word vectors\n",
        "x_vectors = model.wv\n",
        "del model"
      ]
    },
    {
      "cell_type": "code",
      "execution_count": 122,
      "metadata": {
        "colab": {
          "base_uri": "https://localhost:8080/"
        },
        "id": "sj9O8LNyuvOC",
        "outputId": "831ef314-3442-4bca-dbd9-305757631181"
      },
      "outputs": [
        {
          "data": {
            "text/plain": [
              "<gensim.models.keyedvectors.FastTextKeyedVectors at 0x7f513db191d0>"
            ]
          },
          "execution_count": 122,
          "metadata": {},
          "output_type": "execute_result"
        }
      ],
      "source": [
        "x_vectors"
      ]
    },
    {
      "cell_type": "code",
      "execution_count": 125,
      "metadata": {
        "colab": {
          "base_uri": "https://localhost:8080/"
        },
        "id": "Yl946YFOHyYr",
        "outputId": "618e90e8-bd20-4136-ee7d-b9d9a4979cd1"
      },
      "outputs": [
        {
          "data": {
            "text/plain": [
              "(3983, 3983)"
            ]
          },
          "execution_count": 125,
          "metadata": {},
          "output_type": "execute_result"
        }
      ],
      "source": [
        "len(df3['sentiment']), len(df3['processed_content'])"
      ]
    },
    {
      "cell_type": "code",
      "execution_count": 98,
      "metadata": {
        "id": "q8ZbMsrEJHC0"
      },
      "outputs": [],
      "source": [
        "# train test split\n",
        "train_size = int((len(df_train['processed_content'])))\n",
        "test_size = int((len(df_test['processed_content'])))\n",
        "\n",
        "max_no_tokens = 100\n",
        "\n",
        "indexes = set(range(0,train_size + test_size))\n",
        "\n",
        "x_train = np.zeros((train_size, max_no_tokens, vector_size), dtype=K.floatx())\n",
        "y_train = np.zeros((train_size, 3), dtype=np.int32)\n",
        "\n",
        "x_test = np.zeros((test_size, max_no_tokens, vector_size), dtype=K.floatx())\n",
        "y_test = np.zeros((test_size, 3), dtype=np.int32)"
      ]
    },
    {
      "cell_type": "code",
      "execution_count": 100,
      "metadata": {
        "colab": {
          "base_uri": "https://localhost:8080/"
        },
        "id": "2rxSJ9SgJHJm",
        "outputId": "874f066e-0fb3-47da-c98d-13d89167f6e4"
      },
      "outputs": [
        {
          "data": {
            "text/plain": [
              "(2834, 1149)"
            ]
          },
          "execution_count": 100,
          "metadata": {},
          "output_type": "execute_result"
        }
      ],
      "source": [
        "train_size, test_size"
      ]
    },
    {
      "cell_type": "code",
      "execution_count": 126,
      "metadata": {
        "id": "1Fv83tlhMDMe"
      },
      "outputs": [],
      "source": [
        "tweets = list(df3['processed_content'])\n",
        "labels = list(df3['sentiment'])"
      ]
    },
    {
      "cell_type": "code",
      "execution_count": 127,
      "metadata": {
        "colab": {
          "base_uri": "https://localhost:8080/"
        },
        "id": "yZKvx2nCMDaH",
        "outputId": "9cef748d-1f6d-4b3d-9ae8-dff8ccc34cac"
      },
      "outputs": [
        {
          "data": {
            "text/plain": [
              "(3983, 3983)"
            ]
          },
          "execution_count": 127,
          "metadata": {},
          "output_type": "execute_result"
        }
      ],
      "source": [
        "len(labels), len(tweets)"
      ]
    },
    {
      "cell_type": "code",
      "execution_count": 128,
      "metadata": {
        "colab": {
          "base_uri": "https://localhost:8080/"
        },
        "id": "CZHKE47kvjPT",
        "outputId": "c4ad620c-1a78-4645-851b-bd657dfe2013"
      },
      "outputs": [
        {
          "name": "stdout",
          "output_type": "stream",
          "text": [
            "0 s [-0.02060172  0.2658589   0.08284557  0.25081208 -0.01369779  0.03255726\n",
            " -0.10270236 -0.09966093 -0.09792434  0.0558719   0.01590674 -0.18257432\n",
            "  0.01860484 -0.061795   -0.0217042  -0.00441985 -0.18196663  0.08945573\n",
            "  0.08428988 -0.12061337  0.10030702  0.09067033 -0.04683849  0.02830318\n",
            "  0.03862913 -0.10733231  0.08813316 -0.04945845  0.12508601  0.19624329\n",
            " -0.16419488  0.02687796 -0.11140849 -0.03454421 -0.01382594 -0.20924357\n",
            "  0.16989154 -0.01289965  0.16246623  0.04966501 -0.01680589 -0.03330917\n",
            " -0.17004412  0.09627032 -0.00301769  0.04125416 -0.02924835  0.04532868\n",
            " -0.04223333 -0.20247473  0.08128985  0.00776491 -0.0496254   0.04577317\n",
            "  0.03402416  0.07353009  0.04381324  0.11833711 -0.00361559  0.07402693\n",
            "  0.04477737  0.08693133  0.06425473  0.0295135   0.03334414 -0.08365144\n",
            "  0.33196652 -0.12260064 -0.06601474 -0.08431114 -0.08253275  0.00240366\n",
            " -0.19041428 -0.1344421   0.08984808 -0.0940479   0.09256867 -0.22017924\n",
            "  0.06412025  0.07107081  0.05123835  0.12302081  0.03441454  0.18520384\n",
            " -0.09186146 -0.16759385  0.21672735  0.0949396   0.26657486  0.07418315\n",
            "  0.13709745  0.3511152   0.07295082 -0.0555099   0.22519302 -0.04602008\n",
            "  0.18491465  0.13927728  0.08335027  0.27680913]\n"
          ]
        }
      ],
      "source": [
        "# checking value of a word vector\n",
        "for t, token in enumerate(tweets[8]):\n",
        "  print(t, token, x_vectors[token])\n",
        "  break"
      ]
    },
    {
      "cell_type": "code",
      "execution_count": 129,
      "metadata": {
        "id": "EnmC_H5hJjup"
      },
      "outputs": [],
      "source": [
        "# getting train test data ready by mapping the generated word vectors to the tweets\n",
        "for i, index in enumerate(indexes):\n",
        "    for t, token in enumerate(tweets[index]):\n",
        "        if t >= max_no_tokens:\n",
        "            break\n",
        "      \n",
        "        if token not in x_vectors:\n",
        "            continue\n",
        "    \n",
        "        if i < train_size:\n",
        "            x_train[i, t, :] = x_vectors[token]\n",
        "        else:\n",
        "            x_test[i - train_size, t, :] = x_vectors[token]\n",
        "\n",
        "  \n",
        "    if i < train_size:\n",
        "        if labels[index] == -1:\n",
        "          y_train[i, :] = [1.0, 0.0, 0.0]\n",
        "        elif labels[index] == 0:\n",
        "          y_train[i, :] = [0.0, 1.0, 0.0]\n",
        "        else:\n",
        "          y_train[i, :] = [0.0, 0.0, 1.0]\n",
        "    else:\n",
        "        if labels[index] == -1:\n",
        "          y_test[i - train_size, :] = [1.0, 0.0, 0.0]\n",
        "        elif labels[index] == 0:\n",
        "          y_test[i - train_size, :] = [0.0, 1.0, 0.0]\n",
        "        else:\n",
        "          y_test[i - train_size, :] = [0.0, 0.0, 1.0]\n",
        "    \n",
        "del tweets\n",
        "del labels"
      ]
    },
    {
      "cell_type": "code",
      "execution_count": 130,
      "metadata": {
        "colab": {
          "base_uri": "https://localhost:8080/"
        },
        "id": "zrl-PgQTJjzG",
        "outputId": "c3937be5-f1e6-4658-da09-cc9d2eaeb5ce"
      },
      "outputs": [
        {
          "data": {
            "text/plain": [
              "((2834, 100, 100), (1149, 3))"
            ]
          },
          "execution_count": 130,
          "metadata": {},
          "output_type": "execute_result"
        }
      ],
      "source": [
        "x_train.shape, y_test.shape"
      ]
    },
    {
      "cell_type": "code",
      "execution_count": 131,
      "metadata": {
        "id": "ye4iiGTbH5lv"
      },
      "outputs": [],
      "source": [
        "# declaring training variables\n",
        "batch_size = 32\n",
        "no_epochs = 50"
      ]
    },
    {
      "cell_type": "code",
      "execution_count": 132,
      "metadata": {
        "id": "lyqd2kdQhSsh"
      },
      "outputs": [],
      "source": [
        "# generating class weights\n",
        "y_integers = np.argmax(y_train, axis=1)\n",
        "y_integers = y_integers-1\n",
        "class_weights = compute_class_weight(\n",
        "                                        class_weight = \"balanced\",\n",
        "                                        classes = np.unique(y_integers),\n",
        "                                        y = y_integers                                                    \n",
        "                                    )\n",
        "d_class_weights = dict(enumerate(class_weights))\n"
      ]
    },
    {
      "cell_type": "code",
      "execution_count": 133,
      "metadata": {
        "colab": {
          "base_uri": "https://localhost:8080/"
        },
        "id": "hLC1WPnTa_h1",
        "outputId": "6da21742-9dd9-4343-9cc0-2d073e808951"
      },
      "outputs": [
        {
          "data": {
            "text/plain": [
              "{0: 1.7657320872274143, 1: 0.6138184968594326, 2: 1.2429824561403509}"
            ]
          },
          "execution_count": 133,
          "metadata": {},
          "output_type": "execute_result"
        }
      ],
      "source": [
        "d_class_weights"
      ]
    },
    {
      "cell_type": "code",
      "execution_count": 134,
      "metadata": {
        "colab": {
          "base_uri": "https://localhost:8080/"
        },
        "id": "3eGW5cfnIDeK",
        "outputId": "ce90cb3f-0998-407e-c73b-181ed74622ff"
      },
      "outputs": [
        {
          "name": "stdout",
          "output_type": "stream",
          "text": [
            "Model: \"sequential_3\"\n",
            "_________________________________________________________________\n",
            " Layer (type)                Output Shape              Param #   \n",
            "=================================================================\n",
            " conv1d (Conv1D)             (None, 98, 64)            19264     \n",
            "                                                                 \n",
            " conv1d_1 (Conv1D)           (None, 96, 128)           24704     \n",
            "                                                                 \n",
            " max_pooling1d (MaxPooling1D  (None, 47, 128)          0         \n",
            " )                                                               \n",
            "                                                                 \n",
            " bidirectional_2 (Bidirectio  (None, 512)              788480    \n",
            " nal)                                                            \n",
            "                                                                 \n",
            " dense_4 (Dense)             (None, 256)               131328    \n",
            "                                                                 \n",
            " dropout_2 (Dropout)         (None, 256)               0         \n",
            "                                                                 \n",
            " dense_5 (Dense)             (None, 64)                16448     \n",
            "                                                                 \n",
            " dropout_3 (Dropout)         (None, 64)                0         \n",
            "                                                                 \n",
            " dense_6 (Dense)             (None, 32)                2080      \n",
            "                                                                 \n",
            " dropout_4 (Dropout)         (None, 32)                0         \n",
            "                                                                 \n",
            " dense_7 (Dense)             (None, 3)                 99        \n",
            "                                                                 \n",
            "=================================================================\n",
            "Total params: 982,403\n",
            "Trainable params: 982,403\n",
            "Non-trainable params: 0\n",
            "_________________________________________________________________\n"
          ]
        },
        {
          "name": "stderr",
          "output_type": "stream",
          "text": [
            "/usr/local/lib/python3.7/dist-packages/keras/optimizer_v2/adam.py:105: UserWarning: The `lr` argument is deprecated, use `learning_rate` instead.\n",
            "  super(Adam, self).__init__(name, **kwargs)\n"
          ]
        }
      ],
      "source": [
        "# creating the model\n",
        "model = Sequential()\n",
        "\n",
        "model.add(Conv1D(64, kernel_size=3, activation='relu',\n",
        "                 input_shape=(max_no_tokens, vector_size)))\n",
        "model.add(Conv1D(128, kernel_size=3, activation='relu'))\n",
        "model.add(MaxPooling1D(pool_size=3, strides = 2))\n",
        "\n",
        "model.add(Bidirectional(LSTM(256, dropout=0.2, recurrent_dropout=0.15)))\n",
        "\n",
        "model.add(Dense(256, activation='relu'))\n",
        "model.add(Dropout(0.2))\n",
        "model.add(Dense(64, activation='relu'))\n",
        "model.add(Dropout(0.2))\n",
        "model.add(Dense(32, activation='relu'))\n",
        "model.add(Dropout(0.2))\n",
        "\n",
        "model.add(Dense(3, activation='softmax'))\n",
        "\n",
        "model.compile(loss='categorical_crossentropy', optimizer=keras.optimizers.Adam(lr=0.0005), metrics=['accuracy'])\n",
        "\n",
        "tensorboard = TensorBoard(log_dir='logs/', histogram_freq=0, write_graph=True, write_images=True)\n",
        "\n",
        "model.summary()"
      ]
    },
    {
      "cell_type": "code",
      "execution_count": null,
      "metadata": {
        "colab": {
          "base_uri": "https://localhost:8080/",
          "height": 871
        },
        "id": "W3QqfIzqIUcC",
        "outputId": "92e44bbd-b99c-403d-9f2e-9582cac37332"
      },
      "outputs": [],
      "source": [
        "# training the model\n",
        "history = model.fit(x_train, \n",
        "          y_train, \n",
        "          batch_size=batch_size, \n",
        "          shuffle=True, \n",
        "          epochs=no_epochs, \n",
        "          class_weight = d_class_weights, \n",
        "          validation_data=(x_test, y_test), \n",
        "          callbacks=[tensorboard, ModelCheckpoint('/content/drive/MyDrive/Information_Retrieval_Project/Fasttext_CNN/checkpoint_model_10_best.h5', monitor='val_accuracy', mode='max', verbose=1, save_best_only=True)]\n",
        ")"
      ]
    },
    {
      "cell_type": "code",
      "execution_count": null,
      "metadata": {
        "id": "gI6QJ53HoRbY"
      },
      "outputs": [],
      "source": [
        "# train accuracy graph\n",
        "plt.plot(history.history['accuracy'], label= 'train')\n",
        "plt.plot(history.history['val_accuracy'], label = 'val')\n",
        "plt.title('model accuracy')\n",
        "plt.ylabel('accuracy')\n",
        "plt.xlabel('epoch')\n",
        "plt.show()"
      ]
    },
    {
      "cell_type": "code",
      "execution_count": null,
      "metadata": {
        "id": "sx6oqPKOpp9L"
      },
      "outputs": [],
      "source": [
        "# train loss graph\n",
        "plt.plot(history.history['loss'], label = 'train')\n",
        "plt.plot(history.history['val_loss'], label = 'val')\n",
        "plt.title('model loss')\n",
        "plt.ylabel('loss')\n",
        "plt.xlabel('epoch')\n",
        "plt.show()"
      ]
    },
    {
      "cell_type": "code",
      "execution_count": null,
      "metadata": {},
      "outputs": [],
      "source": [
        "# save trained model\n",
        "model.save('/content/drive/MyDrive/Information_Retrieval_Project/Fasttext_CNN/twitter-sentiment-fasttext-xx.model')"
      ]
    },
    {
      "cell_type": "code",
      "execution_count": 142,
      "metadata": {
        "id": "84GUMrbDY2hj"
      },
      "outputs": [],
      "source": [
        "# load trained model\n",
        "model = load_model('/content/drive/MyDrive/Information_Retrieval_Project/Fasttext_CNN/twitter-sentiment-fasttext-46.model')"
      ]
    },
    {
      "cell_type": "code",
      "execution_count": 143,
      "metadata": {
        "colab": {
          "base_uri": "https://localhost:8080/"
        },
        "id": "mJUX65ugQ2Ub",
        "outputId": "a129de2b-70fe-4aef-8483-5bfb9aac75b3"
      },
      "outputs": [
        {
          "data": {
            "text/plain": [
              "['loss', 'accuracy']"
            ]
          },
          "execution_count": 143,
          "metadata": {},
          "output_type": "execute_result"
        }
      ],
      "source": [
        "model.metrics_names"
      ]
    },
    {
      "cell_type": "code",
      "execution_count": 148,
      "metadata": {
        "colab": {
          "base_uri": "https://localhost:8080/",
          "height": 1000
        },
        "id": "ZZcLd4V0rRhz",
        "outputId": "ff15c5c7-d549-4022-b42d-018eb35ca181"
      },
      "outputs": [
        {
          "data": {
            "image/png": "[encoded data removed]",
            "text/plain": [
              "<IPython.core.display.Image object>"
            ]
          },
          "execution_count": 148,
          "metadata": {},
          "output_type": "execute_result"
        }
      ],
      "source": [
        "# printing model summary of the saved model\n",
        "plot_model(model, to_file='model_plot.png', show_shapes=True, show_layer_names=True)"
      ]
    },
    {
      "cell_type": "code",
      "execution_count": 149,
      "metadata": {
        "colab": {
          "base_uri": "https://localhost:8080/"
        },
        "id": "_Ce18z2FQ7HZ",
        "outputId": "f0c495c8-ad5d-4ca6-dfc0-7492e68f84d5"
      },
      "outputs": [
        {
          "name": "stdout",
          "output_type": "stream",
          "text": [
            "36/36 [==============================] - 2s 29ms/step - loss: 1.0633 - accuracy: 0.4665\n"
          ]
        },
        {
          "data": {
            "text/plain": [
              "[1.063301920890808, 0.46649259328842163]"
            ]
          },
          "execution_count": 149,
          "metadata": {},
          "output_type": "execute_result"
        }
      ],
      "source": [
        "# run model evaluations on test data\n",
        "model.evaluate(x=x_test, y=y_test, batch_size=32, verbose=1)"
      ]
    },
    {
      "cell_type": "code",
      "execution_count": 162,
      "metadata": {
        "id": "ZgztytXRQ7Nt"
      },
      "outputs": [],
      "source": [
        "# predict probabilities for test set\n",
        "yhat_probs = model.predict(x_test, verbose=0)\n",
        "# predict crisp classes for test set\n",
        "yhat_classes=np.argmax(yhat_probs,axis=1)"
      ]
    },
    {
      "cell_type": "code",
      "execution_count": 174,
      "metadata": {
        "colab": {
          "base_uri": "https://localhost:8080/"
        },
        "id": "kJt3oD6awpnu",
        "outputId": "169a1ae2-c85d-49ca-c9be-b5e3d04acf95"
      },
      "outputs": [
        {
          "data": {
            "text/plain": [
              "array([ 0,  0,  1, ...,  0,  0, -1])"
            ]
          },
          "execution_count": 174,
          "metadata": {},
          "output_type": "execute_result"
        }
      ],
      "source": [
        "# pre processing for inference\n",
        "clas = []\n",
        "for i in yhat_classes:\n",
        "  clas.append(i-1)\n",
        "clas=np.array(clas)\n",
        "clas"
      ]
    },
    {
      "cell_type": "code",
      "execution_count": 179,
      "metadata": {
        "colab": {
          "base_uri": "https://localhost:8080/"
        },
        "id": "p6c5nxGewg3E",
        "outputId": "6248801d-31d3-4279-97f1-532fb32df22b"
      },
      "outputs": [
        {
          "data": {
            "text/plain": [
              "array([ 1,  0,  1, ..., -1, -1, -1])"
            ]
          },
          "execution_count": 179,
          "metadata": {},
          "output_type": "execute_result"
        }
      ],
      "source": [
        "# pre processing for inference\n",
        "y_clas= np.array(df_test['sentiment'])\n",
        "y_clas"
      ]
    },
    {
      "cell_type": "code",
      "execution_count": 200,
      "metadata": {
        "colab": {
          "base_uri": "https://localhost:8080/"
        },
        "id": "yuZSPSbUZ3_c",
        "outputId": "ee0d5401-bfd8-40ca-e617-f883204cf3d0"
      },
      "outputs": [
        {
          "name": "stdout",
          "output_type": "stream",
          "text": [
            "FastText+LSTM:\n",
            "Accuracy: 0.466493\n",
            "Precision: 0.403607\n",
            "Recall: 0.466493\n",
            "F1 score: 0.367768\n"
          ]
        }
      ],
      "source": [
        "print('FastText+LSTM:')\n",
        "# accuracy: (tp + tn) / (p + n)\n",
        "accuracy = accuracy_score(y_clas, clas)\n",
        "print('Accuracy: %f' % accuracy)\n",
        "# precision tp / (tp + fp)\n",
        "precision = precision_score(y_clas, clas,average='weighted')\n",
        "print('Precision: %f' % precision)\n",
        "# recall: tp / (tp + fn)\n",
        "recall = recall_score(y_clas, clas,average='weighted')\n",
        "print('Recall: %f' % recall)\n",
        "# f1: 2 tp / (2 tp + fp + fn)\n",
        "f1 = f1_score(y_clas, clas,average='weighted')\n",
        "print('F1 score: %f' % f1)"
      ]
    },
    {
      "cell_type": "code",
      "execution_count": 204,
      "metadata": {
        "colab": {
          "base_uri": "https://localhost:8080/"
        },
        "id": "_IuAZqLY6-b1",
        "outputId": "5b79057a-8011-4dd5-80de-c7f4496c1bc4"
      },
      "outputs": [
        {
          "name": "stdout",
          "output_type": "stream",
          "text": [
            "[[ 24 171  24]\n",
            " [ 33 486  23]\n",
            " [ 33 329  26]]\n"
          ]
        }
      ],
      "source": [
        "# build a confusion matrix\n",
        "cm = confusion_matrix(y_clas, clas)\n",
        "print(cm)"
      ]
    },
    {
      "cell_type": "code",
      "execution_count": 285,
      "metadata": {
        "id": "wTCrNHDV6QSm"
      },
      "outputs": [],
      "source": [
        "# reference: https://leslietj.github.io/2020/06/22/Draw-Confusion-Matrix-for-CNN-models/\n",
        "def plot_confusion_matrix(cm, target_names, title='Confusion matrix', cmap=None, normalize=False):\n",
        "    \"\"\"\n",
        "    arguments\n",
        "    ---------\n",
        "    cm:           confusion matrix from sklearn.metrics.confusion_matrix\n",
        "\n",
        "    target_names: given classification classes such as [0, 1, 2]\n",
        "                  the class names, for example: ['high', 'medium', 'low']\n",
        "\n",
        "    title:        the text to display at the top of the matrix\n",
        "\n",
        "    cmap:         the gradient of the values displayed from matplotlib.pyplot.cm\n",
        "                  see http://matplotlib.org/examples/color/colormaps_reference.html\n",
        "\n",
        "    normalize:    If False, plot the raw numbers\n",
        "                  If True, plot the proportions\n",
        "    \"\"\"\n",
        "     \n",
        "    if cmap is None:\n",
        "        cmap = plt.get_cmap('Oranges')\n",
        "# \n",
        "    plt.figure(figsize=(8, 8))\n",
        "    plt.imshow(cm, interpolation='nearest', cmap=cmap)\n",
        "    plt.title(title)\n",
        "    plt.colorbar()\n",
        "    \n",
        "    if target_names is not None:\n",
        "        tick_marks = np.arange(len(target_names))\n",
        "        plt.xticks(tick_marks, target_names, rotation=45)\n",
        "        plt.yticks(tick_marks, target_names)\n",
        "\n",
        "    if normalize:\n",
        "        cm = cm.astype('float') / cm.sum(axis=1)[:, np.newaxis]\n",
        "\n",
        "\n",
        "    thresh = cm.max() / 1.5 if normalize else cm.max() / 2\n",
        "    for i, j in itertools.product(range(cm.shape[0]), range(cm.shape[1])):\n",
        "        if normalize:\n",
        "            plt.text(j, i, \"{:0.4f}\".format(cm[i, j]),\n",
        "                     horizontalalignment=\"center\",\n",
        "                     color=\"white\" if cm[i, j] > thresh else \"black\")\n",
        "        else:\n",
        "            plt.text(j, i, \"{:,}\".format(cm[i, j]),\n",
        "                     horizontalalignment=\"center\",\n",
        "                     color=\"white\" if cm[i, j] > thresh else \"black\")\n",
        "\n",
        "\n",
        "    plt.tight_layout()\n",
        "    print(len(target_names))\n",
        "    plt.ylim(len(target_names)-0.5, -0.5)\n",
        "    # plt.xlim(len(target_names)-0.5, 0)\n",
        "    plt.ylabel('True labels')\n",
        "    plt.xlabel('Predicted labels')\n",
        "    plt.grid(None)\n",
        "    # , bbox_inches = 'tight'\n",
        "    plt.savefig(title + '.png', dpi=500)\n",
        "    plt.show()"
      ]
    },
    {
      "cell_type": "code",
      "execution_count": 286,
      "metadata": {
        "colab": {
          "base_uri": "https://localhost:8080/",
          "height": 602
        },
        "id": "nLBCQ0rquabx",
        "outputId": "fe40bb3b-deb3-4f94-a4c4-cc9ecf02e7b2"
      },
      "outputs": [
        {
          "name": "stdout",
          "output_type": "stream",
          "text": [
            "3\n"
          ]
        },
        {
          "data": {
            "image/png": "[encoded data removed]",
            "text/plain": [
              "<Figure size 576x576 with 2 Axes>"
            ]
          },
          "metadata": {},
          "output_type": "display_data"
        }
      ],
      "source": [
        "plot_confusion_matrix(cm, ['-1', '0', '1'])"
      ]
    }
  ],
  "metadata": {
    "colab": {
      "collapsed_sections": [],
      "name": "IR project: Fasttext and Keras",
      "provenance": []
    },
    "kernelspec": {
      "display_name": "Python 3",
      "name": "python3"
    },
    "language_info": {
      "name": "python",
      "version": "3.8.2"
    }
  },
  "nbformat": 4,
  "nbformat_minor": 0
}
